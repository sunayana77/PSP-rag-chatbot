{
 "cells": [
  {
   "cell_type": "markdown",
   "id": "2b0264b3",
   "metadata": {},
   "source": [
    "#### LangChain & Pinecone imports"
   ]
  },
  {
   "cell_type": "code",
   "execution_count": 64,
   "id": "151ece6a",
   "metadata": {},
   "outputs": [],
   "source": [
    "from langchain_community.document_loaders import PyPDFLoader\n",
    "from langchain.text_splitter import CharacterTextSplitter\n",
    "from langchain.embeddings import HuggingFaceEmbeddings\n",
    "import os\n",
    "from pinecone import Pinecone, ServerlessSpec  \n",
    "from langchain.vectorstores import Pinecone as LangchainPinecone\n",
    "from langchain_pinecone import PineconeVectorStore\n",
    "from langchain_groq import ChatGroq\n",
    "from langchain import PromptTemplate\n",
    "from langchain.memory import ConversationBufferMemory\n",
    "from langchain.schema.runnable import RunnablePassthrough\n",
    "from langchain.schema.output_parser import StrOutputParser\n",
    "from langchain.chains import ConversationalRetrievalChain"
   ]
  },
  {
   "cell_type": "markdown",
   "id": "1244df46",
   "metadata": {},
   "source": [
    "#### Uploading the file "
   ]
  },
  {
   "cell_type": "code",
   "execution_count": 50,
   "id": "e8171379",
   "metadata": {},
   "outputs": [],
   "source": [
    "file_path = (\"./Progressive_supranuclear_palsy_diagnosis_and_manag.pdf\")"
   ]
  },
  {
   "cell_type": "code",
   "execution_count": null,
   "id": "9d711ace",
   "metadata": {},
   "outputs": [],
   "source": [
    "loader = PyPDFLoader(file_path)\n",
    "documents = loader.load()\n",
    "\n",
    "text_splitter = CharacterTextSplitter(chunk_size = 1000, chunk_overlap = 4)\n",
    "docs = text_splitter.split_documents(documents)"
   ]
  },
  {
   "cell_type": "markdown",
   "id": "c2a5a1ff",
   "metadata": {},
   "source": [
    "#### Load HuggingFace Embeddings (used for vector representation of text)"
   ]
  },
  {
   "cell_type": "code",
   "execution_count": 53,
   "id": "5797171b",
   "metadata": {},
   "outputs": [
    {
     "name": "stderr",
     "output_type": "stream",
     "text": [
      "C:\\Users\\User\\AppData\\Local\\Temp\\ipykernel_18232\\3655315981.py:1: LangChainDeprecationWarning: Default values for HuggingFaceEmbeddings.model_name were deprecated in LangChain 0.2.16 and will be removed in 0.4.0. Explicitly pass a model_name to the HuggingFaceEmbeddings constructor instead.\n",
      "  embeddings = HuggingFaceEmbeddings()\n"
     ]
    }
   ],
   "source": [
    "embeddings = HuggingFaceEmbeddings()"
   ]
  },
  {
   "cell_type": "markdown",
   "id": "85127b33",
   "metadata": {},
   "source": [
    "#### Create a new Pinecone index if it doesn't already exist"
   ]
  },
  {
   "cell_type": "code",
   "execution_count": null,
   "id": "5111a82d",
   "metadata": {},
   "outputs": [],
   "source": [
    "os.environ[\"PINECONE_API_KEY\"] = \"pcsk_6dFzZs_3taqS6jmyUsFbWp8rXXzqVYd3Sr99Ah91EQLifun6R74wiRdYcgcvALxmqv5bm2\"  # Replace with your actual API key\n",
    "\n",
    "pc = Pinecone(api_key=os.getenv(\"PINECONE_API_KEY\"))\n",
    "\n",
    "index_name = 'rag-chatbot'\n",
    "\n",
    "if index_name not in pc.list_indexes().names():\n",
    "    pc.create_index(\n",
    "        name=index_name,\n",
    "        dimension=768, \n",
    "        metric=\"cosine\",  \n",
    "        spec=ServerlessSpec(\n",
    "            cloud=\"aws\",\n",
    "            region=\"us-east-1\"\n",
    "        )\n",
    "    )\n",
    "index = pc.Index(index_name)\n",
    "\n",
    "docsearch = PineconeVectorStore(pinecone_api_key = \"pcsk_6dFzZs_3taqS6jmyUsFbWp8rXXzqVYd3Sr99Ah91EQLifun6R74wiRdYcgcvALxmqv5bm2\", index_name=index_name, embedding=embeddings)"
   ]
  },
  {
   "cell_type": "code",
   "execution_count": null,
   "id": "c7a0160e",
   "metadata": {},
   "outputs": [],
   "source": [
    "# Load the Groq-hosted LLM (LLaMA 3)\n",
    "llm = ChatGroq(\n",
    "    model=\"llama3-8b-8192\", \n",
    "    api_key = \"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\"\n",
    ")\n"
   ]
  },
  {
   "cell_type": "markdown",
   "id": "3c61a99b",
   "metadata": {},
   "source": [
    "#### Prompt template for RAG with memory"
   ]
  },
  {
   "cell_type": "code",
   "execution_count": 63,
   "id": "3e7d4e44",
   "metadata": {},
   "outputs": [],
   "source": [
    "template = \"\"\"\n",
    "You are a expert assistant. You are specialized in progressive supranulear palsy. \n",
    "Use following piece of context to answer the question. \n",
    "If you don't know the answer, just say you don't know. \n",
    "Keep the answer within 2 sentences and concise.\n",
    "\n",
    "{chat_history}\n",
    "\n",
    "Context: {context}\n",
    "Question: {question}\n",
    "Answer: \n",
    "\"\"\"\n",
    "\n",
    "prompt = PromptTemplate(\n",
    "    template = template,\n",
    "    input_variables = [\"context\",\"chat_histroy\",\"question\"]\n",
    ")"
   ]
  },
  {
   "cell_type": "markdown",
   "id": "6f603157",
   "metadata": {},
   "source": [
    "#### Used for tracking history"
   ]
  },
  {
   "cell_type": "code",
   "execution_count": null,
   "id": "fd9acc40",
   "metadata": {},
   "outputs": [],
   "source": [
    "memory = ConversationBufferMemory(memory_key=\"chat_history\",return_messages=True)"
   ]
  },
  {
   "cell_type": "code",
   "execution_count": null,
   "id": "a023ee02",
   "metadata": {},
   "outputs": [],
   "source": [
    "# RAG chain with LLM, retriever, memory, and custom prompt\n",
    "rag_chain = ConversationalRetrievalChain.from_llm(\n",
    "    llm = llm,\n",
    "    retriever = docsearch.as_retriever(),\n",
    "    memory = memory,\n",
    "    combine_docs_chain_kwargs = {\"prompt\": prompt}\n",
    ")\n"
   ]
  },
  {
   "cell_type": "code",
   "execution_count": 60,
   "id": "70a83ff9",
   "metadata": {},
   "outputs": [
    {
     "name": "stdout",
     "output_type": "stream",
     "text": [
      "Answer: The early symptoms of progressive supranuclear palsy (PSP) typically include subtle changes in gait, balance, and coordination, often characterized by a stiff or awkward walking style, as well as difficulty with swallowing, speech, and eye movements. These symptoms usually progress slowly, often over several months or years, before other cognitive, behavioral, and motor impairments become apparent.\n",
      "\n",
      "Chat History:\n",
      "Human: What are the early symptoms of progressive supranuclear palsy?\n",
      "Ai: The early symptoms of progressive supranuclear palsy (PSP) typically include subtle changes in gait, balance, and coordination, often characterized by a stiff or awkward walking style, as well as difficulty with swallowing, speech, and eye movements. These symptoms usually progress slowly, often over several months or years, before other cognitive, behavioral, and motor impairments become apparent.\n"
     ]
    }
   ],
   "source": [
    "question = \"What are the early symptoms of progressive supranuclear palsy?\"\n",
    "response = rag_chain.invoke(question)\n",
    "\n",
    "print(\"Answer:\", response[\"answer\"])\n",
    "print(\"\\nChat History:\")\n",
    "for msg in response[\"chat_history\"]:\n",
    "    print(f\"{msg.type.capitalize()}: {msg.content}\")\n"
   ]
  },
  {
   "cell_type": "code",
   "execution_count": 61,
   "id": "2c8d05de",
   "metadata": {},
   "outputs": [
    {
     "name": "stdout",
     "output_type": "stream",
     "text": [
      "Answer: There are no known preventive measures for progressive supranuclear palsy (PSP), and it is not possible to prevent or delay its onset. PSP is a progressive and degenerative brain disorder, and its exact cause is still unknown, making prevention or delay of onset not currently possible.\n",
      "\n",
      "Chat History:\n",
      "Human: What are the early symptoms of progressive supranuclear palsy?\n",
      "Ai: The early symptoms of progressive supranuclear palsy (PSP) typically include subtle changes in gait, balance, and coordination, often characterized by a stiff or awkward walking style, as well as difficulty with swallowing, speech, and eye movements. These symptoms usually progress slowly, often over several months or years, before other cognitive, behavioral, and motor impairments become apparent.\n",
      "Human: how can we prevent PSP is there any preventive measures for it\n",
      "Ai: There are no known preventive measures for progressive supranuclear palsy (PSP), and it is not possible to prevent or delay its onset. PSP is a progressive and degenerative brain disorder, and its exact cause is still unknown, making prevention or delay of onset not currently possible.\n"
     ]
    }
   ],
   "source": [
    "question = \"how can we prevent PSP is there any preventive measures for it\"\n",
    "response = rag_chain.invoke(question)\n",
    "\n",
    "print(\"Answer:\", response[\"answer\"])\n",
    "print(\"\\nChat History:\")\n",
    "for msg in response[\"chat_history\"]:\n",
    "    print(f\"{msg.type.capitalize()}: {msg.content}\")"
   ]
  }
 ],
 "metadata": {
  "kernelspec": {
   "display_name": "Python 3",
   "language": "python",
   "name": "python3"
  },
  "language_info": {
   "codemirror_mode": {
    "name": "ipython",
    "version": 3
   },
   "file_extension": ".py",
   "mimetype": "text/x-python",
   "name": "python",
   "nbconvert_exporter": "python",
   "pygments_lexer": "ipython3",
   "version": "3.11.12"
  }
 },
 "nbformat": 4,
 "nbformat_minor": 5
}
